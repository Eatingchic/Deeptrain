{
 "cells": [
  {
   "cell_type": "code",
   "execution_count": 7,
   "metadata": {
    "collapsed": true
   },
   "outputs": [],
   "source": [
    "import sys, os\n",
    "sys.path.append(\"C:\\\\Users\\\\Administrator\\\\Desktop\\\\Zh-Website\")\n",
    "os.environ.setdefault('DJANGO_SETTINGS_MODULE', 'DjangoWebsite.settings')\n",
    "\n",
    "import django\n",
    "django.setup()\n"
   ]
  },
  {
   "cell_type": "code",
   "execution_count": 8,
   "outputs": [],
   "source": [
    "def compare():\n",
    "    # some tasks (picklable return value)\n",
    "    return tuple(map(lambda x: x ** 3, range(1000)))"
   ],
   "metadata": {
    "collapsed": false
   }
  },
  {
   "cell_type": "code",
   "execution_count": 9,
   "outputs": [
    {
     "data": {
      "text/plain": "4.436659812927246"
     },
     "execution_count": 9,
     "metadata": {},
     "output_type": "execute_result"
    }
   ],
   "source": [
    "from utils.benchmark import fps_compare, timeit_analysis, fps_analysis\n",
    "from utils.cache import hash_cache_process_safe as hcache\n",
    "\n",
    "timeit_analysis(compare, 10**4)"
   ],
   "metadata": {
    "collapsed": false
   }
  },
  {
   "cell_type": "code",
   "execution_count": 23,
   "outputs": [
    {
     "data": {
      "text/plain": "'function fps: 2300.39084065458, compared function fps: 21505.380313594836'"
     },
     "execution_count": 23,
     "metadata": {},
     "output_type": "execute_result"
    }
   ],
   "source": [
    "fps_compare(compare, hcache(compare), count=10**4)  #  不加hash cache装饰后的函数测算完后 新增局部变量 再测装饰后, 所以装饰后的测速有微妙一丁点慢"
   ],
   "metadata": {
    "collapsed": false
   }
  },
  {
   "cell_type": "code",
   "execution_count": 17,
   "outputs": [],
   "source": [
    "os.environ.setdefault('DJANGO_SETTINGS_MODULE', 'rest.settings')\n",
    "os.environ[\"DJANGO_ALLOW_ASYNC_UNSAFE\"] = \"true\""
   ],
   "metadata": {
    "collapsed": false
   }
  },
  {
   "cell_type": "code",
   "execution_count": 18,
   "outputs": [],
   "source": [
    "def request():\n",
    "    return Article.objects.filter(author=user)\n",
    "\n",
    "query = request()\n",
    "query.count()"
   ],
   "metadata": {
    "collapsed": false
   }
  },
  {
   "cell_type": "code",
   "execution_count": 19,
   "outputs": [
    {
     "data": {
      "text/plain": "[6239.573942666726,\n 7392.537497576538,\n 6648.971180368409,\n 7693.0063645200935,\n 7159.103555396248,\n 6666.8319743137345,\n 7126.746300103648,\n 7150.6819421713035,\n 7701.340384121039,\n 7143.3748892976355,\n 7673.583490367551,\n 7140.334689569465,\n 7705.7265161397,\n 7700.633411056237,\n 6238.274708113334,\n 5555.0016555195025,\n 6249.894203546416,\n 6250.639325206403,\n 6679.9980888372165,\n 6240.502298730863,\n 5561.336002864,\n 2777.960724575289,\n 4761.925522252498,\n 3571.200871875213,\n 3999.7558742752517,\n 4286.375342353759,\n 5883.026860228628,\n 6249.987334038654,\n 7143.3748892976355,\n 5262.746869432106,\n 6250.73247790644,\n 6666.514082268421,\n 5882.036826679007,\n 6666.937945066124,\n 7143.496551136847,\n 5881.459460975405,\n 6250.453028135431,\n 5263.143100938613,\n 6666.196220537516,\n 7143.861561520643,\n 5880.552400981423,\n 6250.918791636239,\n 8336.587692796948,\n 7142.888283378747,\n 7142.28011919966,\n 7127.109600679694,\n 7142.888283378747,\n 8332.61284170375,\n 7159.225753593008,\n 7141.793662415502,\n 6653.189936867486,\n 7159.470162501707,\n 7692.300920661703,\n 8333.440623075243,\n 7692.159847415041,\n 6666.620042915044,\n 7143.3748892976355,\n 7136.204168438962,\n 7700.209289517165,\n 6666.196220537516,\n 7142.766642257455,\n 7127.230709102959,\n 6680.104478562782,\n 6249.056153995143,\n 6251.011952666249,\n 7521.796205301101,\n 8307.691088795136,\n 7710.684609162439,\n 7126.504120295643,\n 7159.225753593008,\n 7127.594059069436,\n 7710.1176470588225,\n 7127.594059069436,\n 6679.891702500398,\n 6653.506559431463,\n 7691.1724795540395,\n 6262.024484920872,\n 6250.173603349874,\n 6666.514082268421,\n 5882.366800835869,\n 6238.924257749747,\n 6665.136900316229,\n 6680.423668073584,\n 6667.2558775373955,\n 6666.408124990066,\n 6665.666518339584,\n 5556.252649427724,\n 6249.987334038654,\n 7675.4089960838855,\n 5889.222128615557,\n 6253.714830994946,\n 6652.767820321669,\n 7332.571108896698,\n 7675.268541731477,\n 6679.572563820809,\n 7128.442019748806,\n 7691.5956061689685,\n 6260.996253228045,\n 4161.30485251952,\n 6668.103845725823]"
     },
     "execution_count": 19,
     "metadata": {},
     "output_type": "execute_result"
    }
   ],
   "source": [
    "[fps_analysis(hcache(request), 10**2) for _ in range(100)]"
   ],
   "metadata": {
    "collapsed": false
   }
  }
 ],
 "metadata": {
  "kernelspec": {
   "display_name": "Python 3",
   "language": "python",
   "name": "python3"
  },
  "language_info": {
   "codemirror_mode": {
    "name": "ipython",
    "version": 2
   },
   "file_extension": ".py",
   "mimetype": "text/x-python",
   "name": "python",
   "nbconvert_exporter": "python",
   "pygments_lexer": "ipython2",
   "version": "2.7.6"
  }
 },
 "nbformat": 4,
 "nbformat_minor": 0
}
