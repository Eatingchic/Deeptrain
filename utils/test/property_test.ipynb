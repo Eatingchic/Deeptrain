{
 "cells": [
  {
   "cell_type": "code",
   "execution_count": 9,
   "metadata": {
    "collapsed": true
   },
   "outputs": [],
   "source": [
    "from random import randint\n",
    "import sys, os\n",
    "sys.path.append(\"C:\\\\Users\\\\Administrator\\\\Desktop\\\\Zh-Website\")\n",
    "os.environ.setdefault('DJANGO_SETTINGS_MODULE', 'DjangoWebsite.settings')\n",
    "os.environ.setdefault('DJANGO_SETTINGS_MODULE', 'rest.settings')\n",
    "os.environ[\"DJANGO_ALLOW_ASYNC_UNSAFE\"] = \"true\"\n",
    "\n",
    "import django\n",
    "django.setup()\n",
    "\n",
    "from utils.cache import hash_cached_property\n",
    "\n",
    "\n",
    "class model:\n",
    "    def __init__(self):\n",
    "        self.something_different = randint(0 , 234) / 0.21\n",
    "    @hash_cached_property\n",
    "    def count(self):\n",
    "        return randint(0, 100)"
   ]
  },
  {
   "cell_type": "code",
   "execution_count": 10,
   "outputs": [
    {
     "name": "stdout",
     "output_type": "stream",
     "text": [
      "<__main__.model object at 0x00000233A322B108> -9223371885554554096 314.2857142857143\n"
     ]
    },
    {
     "data": {
      "text/plain": "(<utils.cache.hash_cached_property at 0x233a32202c8>, 88)"
     },
     "execution_count": 10,
     "metadata": {},
     "output_type": "execute_result"
    }
   ],
   "source": [
    "model.count, model().count  # tuple(empty instance .count, instance .count)"
   ],
   "metadata": {
    "collapsed": false
   }
  },
  {
   "cell_type": "code",
   "execution_count": 11,
   "outputs": [
    {
     "name": "stdout",
     "output_type": "stream",
     "text": [
      "<__main__.model object at 0x00000233A322BB48> -9223371885554553932 204.76190476190476\n",
      "<__main__.model object at 0x00000233A322BB48> -9223371885554553932 204.76190476190476\n",
      "<__main__.model object at 0x00000233A322BB48> -9223371885554553932 204.76190476190476\n",
      "<__main__.model object at 0x00000233A322BB48> -9223371885554553932 204.76190476190476\n",
      "<__main__.model object at 0x00000233A322BB48> -9223371885554553932 204.76190476190476\n",
      "<__main__.model object at 0x00000233A322BB48> -9223371885554553932 204.76190476190476\n",
      "<__main__.model object at 0x00000233A322BB48> -9223371885554553932 204.76190476190476\n",
      "<__main__.model object at 0x00000233A322BB48> -9223371885554553932 204.76190476190476\n",
      "<__main__.model object at 0x00000233A322BB48> -9223371885554553932 204.76190476190476\n",
      "<__main__.model object at 0x00000233A322BB48> -9223371885554553932 204.76190476190476\n"
     ]
    },
    {
     "data": {
      "text/plain": "[84, 84, 84, 84, 84, 84, 84, 84, 84, 84]"
     },
     "execution_count": 11,
     "metadata": {},
     "output_type": "execute_result"
    }
   ],
   "source": [
    "m = model()\n",
    "[m.count for i in range(10)]"
   ],
   "metadata": {
    "collapsed": false
   }
  },
  {
   "cell_type": "code",
   "execution_count": 12,
   "outputs": [
    {
     "name": "stdout",
     "output_type": "stream",
     "text": [
      "<__main__.model object at 0x00000233A3231608> -9223371885554552480 800.0\n",
      "<__main__.model object at 0x00000233A3226508> -9223371885554555312 352.3809523809524\n",
      "<__main__.model object at 0x00000233A3226508> -9223371885554555312 900.0\n",
      "<__main__.model object at 0x00000233A3226508> -9223371885554555312 476.1904761904762\n",
      "<__main__.model object at 0x00000233A3226508> -9223371885554555312 547.6190476190476\n",
      "<__main__.model object at 0x00000233A322B408> -9223371885554554048 1014.2857142857143\n",
      "<__main__.model object at 0x00000233A322B408> -9223371885554554048 452.3809523809524\n",
      "<__main__.model object at 0x00000233A322B408> -9223371885554554048 1023.8095238095239\n",
      "<__main__.model object at 0x00000233A322B408> -9223371885554554048 1090.4761904761906\n",
      "<__main__.model object at 0x00000233A3226508> -9223371885554555312 328.57142857142856\n"
     ]
    },
    {
     "data": {
      "text/plain": "[36, 61, 61, 61, 61, 80, 80, 80, 80, 61]"
     },
     "execution_count": 12,
     "metadata": {},
     "output_type": "execute_result"
    }
   ],
   "source": [
    "[model().count for n in range(10)]"
   ],
   "metadata": {
    "collapsed": false
   }
  }
 ],
 "metadata": {
  "kernelspec": {
   "display_name": "Python 3",
   "language": "python",
   "name": "python3"
  },
  "language_info": {
   "codemirror_mode": {
    "name": "ipython",
    "version": 2
   },
   "file_extension": ".py",
   "mimetype": "text/x-python",
   "name": "python",
   "nbconvert_exporter": "python",
   "pygments_lexer": "ipython2",
   "version": "2.7.6"
  }
 },
 "nbformat": 4,
 "nbformat_minor": 0
}
